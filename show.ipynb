import pandas as pd

data=pd.read_csv("here.csv")

data.head()